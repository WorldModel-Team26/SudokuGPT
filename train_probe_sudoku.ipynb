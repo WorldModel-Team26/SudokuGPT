{
 "cells": [
  {
   "cell_type": "markdown",
   "metadata": {},
   "source": [
    "# 初期設定・インポート"
   ]
  },
  {
   "cell_type": "code",
   "execution_count": null,
   "metadata": {},
   "outputs": [],
   "source": [
    "%load_ext autoreload\n",
    "%autoreload 2\n",
    "\n",
    "import os\n",
    "import time\n",
    "import math\n",
    "import numpy as np\n",
    "from copy import deepcopy\n",
    "import torch\n",
    "import torch.nn as nn\n",
    "import torch.nn.functional as F\n",
    "from tqdm import tqdm\n",
    "from matplotlib import pyplot as plt"
   ]
  },
  {
   "cell_type": "code",
   "execution_count": null,
   "metadata": {},
   "outputs": [],
   "source": [
    "# ログ出力の設定\n",
    "import logging\n",
    "logging.basicConfig(\n",
    "    format=\"%(asctime)s - %(levelname)s - %(name)s - %(message)s\",\n",
    "    datefmt=\"%m/%d/%Y %H:%M:%S\",\n",
    "    level=logging.INFO,\n",
    ")"
   ]
  },
  {
   "cell_type": "code",
   "execution_count": null,
   "metadata": {},
   "outputs": [],
   "source": [
    "# 乱数シードの固定\n",
    "from mingpt.utils import set_seed\n",
    "set_seed(42)"
   ]
  },
  {
   "cell_type": "markdown",
   "metadata": {},
   "source": [
    "# パラメータ"
   ]
  },
  {
   "cell_type": "code",
   "execution_count": null,
   "metadata": {},
   "outputs": [],
   "source": [
    "layer = 3\n",
    "epo = 16\n",
    "mid_dim = 128\n",
    "twolayer = True\n",
    "random_flag = False\n",
    "championship = True\n",
    "exp = \"state\"\n",
    "folder_name = f\"battery_othello/{exp}\"\n",
    "if twolayer:\n",
    "    folder_name += f\"_tl{mid_dim}\"\n",
    "if random_flag:\n",
    "    folder_name += \"_random\"\n",
    "if championship:\n",
    "    folder_name += \"_championship\""
   ]
  },
  {
   "cell_type": "code",
   "execution_count": null,
   "metadata": {},
   "outputs": [],
   "source": [
    "print(f\"Running experiment for {folder_name}\")"
   ]
  },
  {
   "cell_type": "markdown",
   "metadata": {},
   "source": [
    "# データセットの読み込み"
   ]
  },
  {
   "cell_type": "code",
   "execution_count": null,
   "metadata": {},
   "outputs": [],
   "source": [
    "from data import get_othello\n",
    "from mingpt.dataset import CharDataset"
   ]
  },
  {
   "cell_type": "code",
   "execution_count": null,
   "metadata": {},
   "outputs": [],
   "source": [
    "# チャンピオンシップ用のデータディレクトリを設定\n",
    "othello = get_othello(data_root=\"data/othello_championship\")\n",
    "train_dataset = CharDataset(othello)"
   ]
  },
  {
   "cell_type": "markdown",
   "metadata": {},
   "source": [
    "# モデルの定義"
   ]
  },
  {
   "cell_type": "code",
   "execution_count": null,
   "metadata": {},
   "outputs": [],
   "source": [
    "from mingpt.model import GPTConfig, GPTforProbing\n",
    "mconf = GPTConfig(train_dataset.vocab_size, train_dataset.block_size, n_layer=8, n_head=8, n_embd=512)\n",
    "model = GPTforProbing(mconf, probe_layer=layer)\n",
    "if random_flag:\n",
    "    model.apply(model._init_weights)\n",
    "elif championship:\n",
    "    model.load_state_dict(torch.load(\"./ckpts/gpt_championship.ckpt\"))\n",
    "else:\n",
    "    model.load_state_dict(torch.load(\"./ckpts/gpt_synthetic.ckpt\"))\n",
    "if torch.cuda.is_available():\n",
    "    device = torch.cuda.current_device()\n",
    "    model = model.to(device)"
   ]
  },
  {
   "cell_type": "markdown",
   "metadata": {},
   "source": [
    "# データローダの準備と属性抽出"
   ]
  },
  {
   "cell_type": "code",
   "execution_count": null,
   "metadata": {},
   "outputs": [],
   "source": [
    "from torch.utils.data.dataloader import DataLoader\n",
    "loader = DataLoader(train_dataset, shuffle=False, pin_memory=True, batch_size=1, num_workers=1)\n",
    "act_container = []\n",
    "property_container = []\n",
    "for x, y in tqdm(loader, total=len(loader)):\n",
    "    tbf = [train_dataset.itos[idx] for idx in x.tolist()[0]]\n",
    "    valid_until = tbf.index(-100) if -100 in tbf else 999\n",
    "    # 例: ここでは OthelloBoardState を使用しているが、必要に応じて数独用に変更する\n",
    "    from data.othello import OthelloBoardState\n",
    "    a = OthelloBoardState()\n",
    "    properties = a.get_gt(tbf[:valid_until], \"get_\" + exp)\n",
    "    act = model(x.to(device))[0, ...].detach().cpu()\n",
    "    act_container.extend([chunk[0] for chunk in act.split(1, dim=0)[:valid_until]])\n",
    "    property_container.extend(properties)"
   ]
  },
  {
   "cell_type": "markdown",
   "metadata": {},
   "source": [
    "# 年齢情報の抽出"
   ]
  },
  {
   "cell_type": "code",
   "execution_count": null,
   "metadata": {},
   "outputs": [],
   "source": [
    "age_container = []\n",
    "for x, y in tqdm(loader, total=len(loader)):\n",
    "    tbf = [train_dataset.itos[idx] for idx in x.tolist()[0]]\n",
    "    valid_until = tbf.index(-100) if -100 in tbf else 999\n",
    "    from data.othello import OthelloBoardState\n",
    "    a = OthelloBoardState()\n",
    "    ages = a.get_gt(tbf[:valid_until], \"get_age\")\n",
    "    age_container.extend(ages)"
   ]
  },
  {
   "cell_type": "markdown",
   "metadata": {},
   "source": [
    "# プローブ用のデータセット生成"
   ]
  },
  {
   "cell_type": "code",
   "execution_count": null,
   "metadata": {},
   "outputs": [],
   "source": [
    "from torch.utils.data import Dataset\n",
    "class ProbingDataset(Dataset):\n",
    "    def __init__(self, act, y, age):\n",
    "        assert len(act) == len(y)\n",
    "        assert len(act) == len(age)\n",
    "        print(f\"{len(act)} pairs loaded...\")\n",
    "        self.act = act\n",
    "        self.y = y\n",
    "        self.age = age\n",
    "    def __len__(self):\n",
    "        return len(self.y)\n",
    "    def __getitem__(self, idx):\n",
    "        return self.act[idx], torch.tensor(self.y[idx]).to(torch.long), torch.tensor(self.age[idx]).to(torch.long)\n",
    "    \n",
    "probing_dataset = ProbingDataset(act_container, property_container, age_container)\n",
    "train_size = int(0.8 * len(probing_dataset))\n",
    "test_size = len(probing_dataset) - train_size\n",
    "train_dataset_sub, test_dataset = torch.utils.data.random_split(probing_dataset, [train_size, test_size])\n",
    "train_loader = DataLoader(train_dataset_sub, shuffle=False, batch_size=128, num_workers=1)\n",
    "test_loader = DataLoader(test_dataset, shuffle=True, batch_size=128, num_workers=1)"
   ]
  },
  {
   "cell_type": "markdown",
   "metadata": {},
   "source": [
    "# トレーニングの設定と実施"
   ]
  },
  {
   "cell_type": "code",
   "execution_count": null,
   "metadata": {},
   "outputs": [],
   "source": [
    "from mingpt.probe_trainer import Trainer, TrainerConfig\n",
    "max_epochs = epo\n",
    "t_start = time.strftime(\"_%Y%m%d_%H%M%S\")\n",
    "tconf = TrainerConfig(\n",
    "    max_epochs=max_epochs, batch_size=1024, learning_rate=1e-3,\n",
    "    betas=(.9, .999), \n",
    "    lr_decay=True, warmup_tokens=len(train_dataset_sub)*5, \n",
    "    final_tokens=len(train_dataset_sub)*max_epochs,\n",
    "    num_workers=4, weight_decay=0., \n",
    "    ckpt_path=os.path.join(\"./ckpts/\", folder_name, f\"layer{layer}\")\n",
    ")\n",
    "trainer = Trainer(probe, train_dataset_sub, test_dataset, tconf)\n",
    "trainer.train(prt=True)\n",
    "trainer.save_traces()\n",
    "trainer.save_checkpoint()"
   ]
  }
 ],
 "metadata": {
  "language_info": {
   "name": "python"
  }
 },
 "nbformat": 4,
 "nbformat_minor": 2
}
